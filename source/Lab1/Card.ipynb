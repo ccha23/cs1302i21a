{
 "cells": [
  {
   "cell_type": "markdown",
   "metadata": {
    "slideshow": {
     "slide_type": "slide"
    }
   },
   "source": [
    "# Card guessing game"
   ]
  },
  {
   "cell_type": "markdown",
   "metadata": {
    "slideshow": {
     "slide_type": "-"
    },
    "tags": [
     "remove-cell"
    ]
   },
   "source": [
    "**CS1302 Introduction to Computer Programming**\n",
    "___"
   ]
  },
  {
   "cell_type": "markdown",
   "metadata": {
    "slideshow": {
     "slide_type": "subslide"
    }
   },
   "source": [
    "## Rules of the game"
   ]
  },
  {
   "cell_type": "markdown",
   "metadata": {
    "slideshow": {
     "slide_type": "fragment"
    }
   },
   "source": [
    "Consider a deck of 52 cards:\n",
    "<table>\n",
    "    <tr>\n",
    "        <td></td>\n",
    "        <th>1 (A)</th>\n",
    "        <th>2</th>\n",
    "        <th>3</th>\n",
    "        <th>4</th>\n",
    "        <th>5</th>\n",
    "        <th>6</th>\n",
    "        <th>7</th>\n",
    "        <th>8</th>\n",
    "        <th>9</th>\n",
    "        <th>10</th>\n",
    "        <th>11 (J)</th>\n",
    "        <th>12 (Q)</th>\n",
    "        <th>13 (K)</th>\n",
    "    </tr>\n",
    "    <tr>\n",
    "        <th style=\"transform: rotate(-90deg);\">Diamond</th>\n",
    "        <td><a title=\"GW Simulations / Public domain\" href=\"https://commons.wikimedia.org/wiki/File:Cards-A-Diamond.svg\"><img width=\"50\" alt=\"Cards-A-Diamond\" src=\"https://upload.wikimedia.org/wikipedia/commons/e/e9/Cards-A-Diamond.svg\"></a></td>\n",
    "        <td><a title=\"GW Simulations / Public domain\" href=\"https://commons.wikimedia.org/wiki/File:Cards-2-Diamond.svg\"><img width=\"50\" alt=\"Cards-2-Diamond\" src=\"https://upload.wikimedia.org/wikipedia/commons/9/99/Cards-2-Diamond.svg\"></a></td>\n",
    "        <td><a title=\"GW Simulations / Public domain\" href=\"https://commons.wikimedia.org/wiki/File:Cards-3-Diamond.svg\"><img width=\"50\" alt=\"Cards-3-Diamond\" src=\"https://upload.wikimedia.org/wikipedia/commons/4/44/Cards-3-Diamond.svg\"></a></td>\n",
    "        <td><a title=\"GW Simulations / Public domain\" href=\"https://commons.wikimedia.org/wiki/File:Cards-4-Diamond.svg\"><img width=\"50\" alt=\"Cards-4-Diamond\" src=\"https://upload.wikimedia.org/wikipedia/commons/a/af/Cards-4-Diamond.svg\"></a></td>\n",
    "        <td><a title=\"GW Simulations / Public domain\" href=\"https://commons.wikimedia.org/wiki/File:Cards-5-Diamond.svg\"><img width=\"50\" alt=\"Cards-5-Diamond\" src=\"https://upload.wikimedia.org/wikipedia/commons/d/dd/Cards-5-Diamond.svg\"></a></td>\n",
    "        <td><a title=\"GW Simulations / Public domain\" href=\"https://commons.wikimedia.org/wiki/File:Cards-6-Diamond.svg\"><img width=\"50\" alt=\"Cards-6-Diamond\" src=\"https://upload.wikimedia.org/wikipedia/commons/4/44/Cards-6-Diamond.svg\"></a></td>\n",
    "        <td><a title=\"GW Simulations / Public domain\" href=\"https://commons.wikimedia.org/wiki/File:Cards-7-Diamond.svg\"><img width=\"50\" alt=\"Cards-7-Diamond\" src=\"https://upload.wikimedia.org/wikipedia/commons/2/2b/Cards-7-Diamond.svg\"></a></td>\n",
    "        <td><a title=\"GW Simulations / Public domain\" href=\"https://commons.wikimedia.org/wiki/File:Cards-8-Diamond.svg\"><img width=\"50\" alt=\"Cards-8-Diamond\" src=\"https://upload.wikimedia.org/wikipedia/commons/9/90/Cards-8-Diamond.svg\"></a></td>\n",
    "        <td><a title=\"GW Simulations / Public domain\" href=\"https://commons.wikimedia.org/wiki/File:Cards-9-Diamond.svg\"><img width=\"50\" alt=\"Cards-9-Diamond\" src=\"https://upload.wikimedia.org/wikipedia/commons/2/25/Cards-9-Diamond.svg\"></a></td>\n",
    "        <td><a title=\"GW Simulations / Public domain\" href=\"https://commons.wikimedia.org/wiki/File:Cards-10-Diamond.svg\"><img width=\"50\" alt=\"Cards-10-Diamond\" src=\"https://upload.wikimedia.org/wikipedia/commons/c/c2/Cards-10-Diamond.svg\"></a></td>\n",
    "        <td><a title=\"GW Simulations / Public domain\" href=\"https://commons.wikimedia.org/wiki/File:Cards-J-Diamond.svg\"><img width=\"50\" alt=\"Cards-J-Diamond\" src=\"https://upload.wikimedia.org/wikipedia/commons/7/78/Cards-J-Diamond.svg\"></a></td>\n",
    "        <td><a title=\"GW Simulations / Public domain\" href=\"https://commons.wikimedia.org/wiki/File:Cards-Q-Diamond.svg\"><img width=\"50\" alt=\"Cards-Q-Diamond\" src=\"https://upload.wikimedia.org/wikipedia/commons/c/c3/Cards-Q-Diamond.svg\"></a></td>\n",
    "        <td><a title=\"GW Simulations / Public domain\" href=\"https://commons.wikimedia.org/wiki/File:Cards-K-Diamond.svg\"><img width=\"50\" alt=\"Cards-K-Diamond\" src=\"https://upload.wikimedia.org/wikipedia/commons/5/55/Cards-K-Diamond.svg\"></a></td>\n",
    "    </tr>\n",
    "    <tr>\n",
    "        <th style=\"transform: rotate(-90deg);\">Club</th>\n",
    "        <td><a title=\"GW Simulations / Public domain\" href=\"https://commons.wikimedia.org/wiki/File:Cards-A-Club.svg\"><img width=\"50\" alt=\"Cards-A-Club\" src=\"https://upload.wikimedia.org/wikipedia/commons/c/c4/Cards-A-Club.svg\"></a></td>\n",
    "        <td><a title=\"GW Simulations / Public domain\" href=\"https://commons.wikimedia.org/wiki/File:Cards-2-Club.svg\"><img width=\"50\" alt=\"Cards-2-Club\" src=\"https://upload.wikimedia.org/wikipedia/commons/b/b0/Cards-2-Club.svg\"></a></td>\n",
    "        <td><a title=\"GW Simulations / Public domain\" href=\"https://commons.wikimedia.org/wiki/File:Cards-3-Club.svg\"><img width=\"50\" alt=\"Cards-3-Club\" src=\"https://upload.wikimedia.org/wikipedia/commons/e/e0/Cards-3-Club.svg\"></a></td>\n",
    "        <td><a title=\"GW Simulations / Public domain\" href=\"https://commons.wikimedia.org/wiki/File:Cards-4-Club.svg\"><img width=\"50\" alt=\"Cards-4-Club\" src=\"https://upload.wikimedia.org/wikipedia/commons/6/69/Cards-4-Club.svg\"></a></td>\n",
    "        <td><a title=\"GW Simulations / Public domain\" href=\"https://commons.wikimedia.org/wiki/File:Cards-5-Club.svg\"><img width=\"50\" alt=\"Cards-5-Club\" src=\"https://upload.wikimedia.org/wikipedia/commons/7/7e/Cards-5-Club.svg\"></a></td>\n",
    "        <td><a title=\"GW Simulations / Public domain\" href=\"https://commons.wikimedia.org/wiki/File:Cards-6-Club.svg\"><img width=\"50\" alt=\"Cards-6-Club\" src=\"https://upload.wikimedia.org/wikipedia/commons/a/af/Cards-6-Club.svg\"></a></td>\n",
    "        <td><a title=\"GW Simulations / Public domain\" href=\"https://commons.wikimedia.org/wiki/File:Cards-7-Club.svg\"><img width=\"50\" alt=\"Cards-7-Club\" src=\"https://upload.wikimedia.org/wikipedia/commons/8/8e/Cards-7-Club.svg\"></a></td>\n",
    "        <td><a title=\"GW Simulations / Public domain\" href=\"https://commons.wikimedia.org/wiki/File:Cards-8-Club.svg\"><img width=\"50\" alt=\"Cards-8-Club\" src=\"https://upload.wikimedia.org/wikipedia/commons/f/fd/Cards-8-Club.svg\"></a></td>\n",
    "        <td><a title=\"GW Simulations / Public domain\" href=\"https://commons.wikimedia.org/wiki/File:Cards-9-Club.svg\"><img width=\"50\" alt=\"Cards-9-Club\" src=\"https://upload.wikimedia.org/wikipedia/commons/a/ac/Cards-9-Club.svg\"></a></td>\n",
    "        <td><a title=\"GW Simulations / Public domain\" href=\"https://commons.wikimedia.org/wiki/File:Cards-10-Club.svg\"><img width=\"50\" alt=\"Cards-10-Club\" src=\"https://upload.wikimedia.org/wikipedia/commons/2/25/Cards-10-Club.svg\"></a></td>\n",
    "        <td><a title=\"GW Simulations / Public domain\" href=\"https://commons.wikimedia.org/wiki/File:Cards-J-Club.svg\"><img width=\"50\" alt=\"Cards-J-Club\" src=\"https://upload.wikimedia.org/wikipedia/commons/c/c7/Cards-J-Club.svg\"></a></td>\n",
    "        <td><a title=\"GW Simulations / Public domain\" href=\"https://commons.wikimedia.org/wiki/File:Cards-Q-Club.svg\"><img width=\"50\" alt=\"Cards-Q-Club\" src=\"https://upload.wikimedia.org/wikipedia/commons/3/37/Cards-Q-Club.svg\"></a></td>\n",
    "        <td><a title=\"GW Simulations / Public domain\" href=\"https://commons.wikimedia.org/wiki/File:Cards-K-Club.svg\"><img width=\"50\" alt=\"Cards-K-Club\" src=\"https://upload.wikimedia.org/wikipedia/commons/9/9e/Cards-K-Club.svg\"></a></td>\n",
    "    </tr>\n",
    "    <tr>\n",
    "        <th style=\"transform: rotate(-90deg);\">Heart</th>\n",
    "        <td><a title=\"GW Simulations / Public domain\" href=\"https://commons.wikimedia.org/wiki/File:Cards-A-Heart.svg\"><img width=\"50\" alt=\"Cards-A-Heart\" src=\"https://upload.wikimedia.org/wikipedia/commons/6/60/Cards-A-Heart.svg\"></a></td>\n",
    "        <td><a title=\"GW Simulations / Public domain\" href=\"https://commons.wikimedia.org/wiki/File:Cards-2-Heart.svg\"><img width=\"50\" alt=\"Cards-2-Heart\" src=\"https://upload.wikimedia.org/wikipedia/commons/6/6e/Cards-2-Heart.svg\"></a></td>\n",
    "        <td><a title=\"GW Simulations / Public domain\" href=\"https://commons.wikimedia.org/wiki/File:Cards-3-Heart.svg\"><img width=\"50\" alt=\"Cards-3-Heart\" src=\"https://upload.wikimedia.org/wikipedia/commons/5/57/Cards-3-Heart.svg\"></a></td>\n",
    "        <td><a title=\"GW Simulations / Public domain\" href=\"https://commons.wikimedia.org/wiki/File:Cards-4-Heart.svg\"><img width=\"50\" alt=\"Cards-4-Heart\" src=\"https://upload.wikimedia.org/wikipedia/commons/3/39/Cards-4-Heart.svg\"></a></td>\n",
    "        <td><a title=\"GW Simulations / Public domain\" href=\"https://commons.wikimedia.org/wiki/File:Cards-5-Heart.svg\"><img width=\"50\" alt=\"Cards-5-Heart\" src=\"https://upload.wikimedia.org/wikipedia/commons/9/91/Cards-5-Heart.svg\"></a></td>\n",
    "        <td><a title=\"GW Simulations / Public domain\" href=\"https://commons.wikimedia.org/wiki/File:Cards-6-Heart.svg\"><img width=\"50\" alt=\"Cards-6-Heart\" src=\"https://upload.wikimedia.org/wikipedia/commons/5/55/Cards-6-Heart.svg\"></a></td>\n",
    "        <td><a title=\"GW Simulations / Public domain\" href=\"https://commons.wikimedia.org/wiki/File:Cards-7-Heart.svg\"><img width=\"50\" alt=\"Cards-7-Heart\" src=\"https://upload.wikimedia.org/wikipedia/commons/d/d4/Cards-7-Heart.svg\"></a></td>\n",
    "        <td><a title=\"GW Simulations / Public domain\" href=\"https://commons.wikimedia.org/wiki/File:Cards-8-Heart.svg\"><img width=\"50\" alt=\"Cards-8-Heart\" src=\"https://upload.wikimedia.org/wikipedia/commons/5/55/Cards-8-Heart.svg\"></a></td>\n",
    "        <td><a title=\"GW Simulations / Public domain\" href=\"https://commons.wikimedia.org/wiki/File:Cards-9-Heart.svg\"><img width=\"50\" alt=\"Cards-9-Heart\" src=\"https://upload.wikimedia.org/wikipedia/commons/d/d2/Cards-9-Heart.svg\"></a></td>\n",
    "        <td><a title=\"GW Simulations / Public domain\" href=\"https://commons.wikimedia.org/wiki/File:Cards-10-Heart.svg\"><img width=\"50\" alt=\"Cards-10-Heart\" src=\"https://upload.wikimedia.org/wikipedia/commons/7/76/Cards-10-Heart.svg\"></a></td>\n",
    "        <td><a title=\"GW Simulations / Public domain\" href=\"https://commons.wikimedia.org/wiki/File:Cards-J-Heart.svg\"><img width=\"50\" alt=\"Cards-J-Heart\" src=\"https://upload.wikimedia.org/wikipedia/commons/e/e7/Cards-J-Heart.svg\"></a></td>\n",
    "        <td><a title=\"GW Simulations / Public domain\" href=\"https://commons.wikimedia.org/wiki/File:Cards-Q-Heart.svg\"><img width=\"50\" alt=\"Cards-Q-Heart\" src=\"https://upload.wikimedia.org/wikipedia/commons/2/28/Cards-Q-Heart.svg\"></a></td>\n",
    "        <td><a title=\"GW Simulations / Public domain\" href=\"https://commons.wikimedia.org/wiki/File:Cards-K-Heart.svg\"><img width=\"50\" alt=\"Cards-K-Heart\" src=\"https://upload.wikimedia.org/wikipedia/commons/b/bf/Cards-K-Heart.svg\"></a></td>\n",
    "    </tr>        \n",
    "    <tr>\n",
    "        <th style=\"transform: rotate(-90deg);\">Spade</th>\n",
    "        <td><a title=\"GW Simulations / Public domain\" href=\"https://commons.wikimedia.org/wiki/File:Cards-A-Spade.svg\"><img width=\"50\" alt=\"Cards-A-Spade\" src=\"https://upload.wikimedia.org/wikipedia/commons/9/9d/Cards-A-Spade.svg\"></a></td>\n",
    "        <td><a title=\"GW Simulations / Public domain\" href=\"https://commons.wikimedia.org/wiki/File:Cards-2-Spade.svg\"><img width=\"50\" alt=\"Cards-2-Spade\" src=\"https://upload.wikimedia.org/wikipedia/commons/e/e7/Cards-2-Spade.svg\"></a></td>\n",
    "        <td><a title=\"GW Simulations / Public domain\" href=\"https://commons.wikimedia.org/wiki/File:Cards-3-Spade.svg\"><img width=\"50\" alt=\"Cards-3-Spade\" src=\"https://upload.wikimedia.org/wikipedia/commons/d/d0/Cards-3-Spade.svg\"></a></td>\n",
    "        <td><a title=\"GW Simulations / Public domain\" href=\"https://commons.wikimedia.org/wiki/File:Cards-4-Spade.svg\"><img width=\"50\" alt=\"Cards-4-Spade\" src=\"https://upload.wikimedia.org/wikipedia/commons/4/4e/Cards-4-Spade.svg\"></a></td>\n",
    "        <td><a title=\"GW Simulations / Public domain\" href=\"https://commons.wikimedia.org/wiki/File:Cards-5-Spade.svg\"><img width=\"50\" alt=\"Cards-5-Spade\" src=\"https://upload.wikimedia.org/wikipedia/commons/b/b1/Cards-5-Spade.svg\"></a></td>\n",
    "        <td><a title=\"GW Simulations / Public domain\" href=\"https://commons.wikimedia.org/wiki/File:Cards-6-Spade.svg\"><img width=\"50\" alt=\"Cards-6-Spade\" src=\"https://upload.wikimedia.org/wikipedia/commons/6/68/Cards-6-Spade.svg\"></a></td>\n",
    "        <td><a title=\"GW Simulations / Public domain\" href=\"https://commons.wikimedia.org/wiki/File:Cards-7-Spade.svg\"><img width=\"50\" alt=\"Cards-7-Spade\" src=\"https://upload.wikimedia.org/wikipedia/commons/c/c6/Cards-7-Spade.svg\"></a></td>\n",
    "        <td><a title=\"GW Simulations / Public domain\" href=\"https://commons.wikimedia.org/wiki/File:Cards-8-Spade.svg\"><img width=\"50\" alt=\"Cards-8-Spade\" src=\"https://upload.wikimedia.org/wikipedia/commons/7/7e/Cards-8-Spade.svg\"></a></td>\n",
    "        <td><a title=\"GW Simulations / Public domain\" href=\"https://commons.wikimedia.org/wiki/File:Cards-9-Spade.svg\"><img width=\"50\" alt=\"Cards-9-Spade\" src=\"https://upload.wikimedia.org/wikipedia/commons/0/0a/Cards-9-Spade.svg\"></a></td>\n",
    "        <td><a title=\"GW Simulations / Public domain\" href=\"https://commons.wikimedia.org/wiki/File:Cards-10-Spade.svg\"><img width=\"50\" alt=\"Cards-10-Spade\" src=\"https://upload.wikimedia.org/wikipedia/commons/6/67/Cards-10-Spade.svg\"></a></td>\n",
    "        <td><a title=\"GW Simulations / Public domain\" href=\"https://commons.wikimedia.org/wiki/File:Cards-J-Spade.svg\"><img width=\"50\" alt=\"Cards-J-Spade\" src=\"https://upload.wikimedia.org/wikipedia/commons/e/ea/Cards-J-Spade.svg\"></a></td>\n",
    "        <td><a title=\"GW Simulations / Public domain\" href=\"https://commons.wikimedia.org/wiki/File:Cards-Q-Spade.svg\"><img width=\"50\" alt=\"Cards-Q-Spade\" src=\"https://upload.wikimedia.org/wikipedia/commons/e/ef/Cards-Q-Spade.svg\"></a></td>\n",
    "        <td><a title=\"GW Simulations / Public domain\" href=\"https://commons.wikimedia.org/wiki/File:Cards-K-Spade.svg\"><img width=\"50\" alt=\"Cards-K-Spade\" src=\"https://upload.wikimedia.org/wikipedia/commons/1/18/Cards-K-Spade.svg\"></a></td>\n",
    "    </tr>\n",
    "</table>"
   ]
  },
  {
   "cell_type": "markdown",
   "metadata": {
    "slideshow": {
     "slide_type": "fragment"
    }
   },
   "source": [
    "-   Each card is in one of the four suits: **Diamond**, **Club**, **Heart**, and **Spade**.\n",
    "-   Each card has a value $1 \\text{ (A)} < 2 < 3 < 4 < 5 < 6 < 7 < 8 < 9 < 10 < 11 \\text{ (J)} < 12 \\text{ (Q)} < 13 \\text{ (K)}$."
   ]
  },
  {
   "cell_type": "markdown",
   "metadata": {
    "slideshow": {
     "slide_type": "subslide"
    }
   },
   "source": [
    "The following code creates a deck of cards. (You do not need to understand the code for now.)"
   ]
  },
  {
   "cell_type": "code",
   "execution_count": 2,
   "metadata": {
    "ExecuteTime": {
     "end_time": "2021-03-20T14:23:40.439389Z",
     "start_time": "2021-03-20T14:23:40.434613Z"
    },
    "slideshow": {
     "slide_type": "-"
    }
   },
   "outputs": [
    {
     "name": "stdout",
     "output_type": "stream",
     "text": [
      "[Card(value=1, suit='Diamond'), Card(value=1, suit='Club'), Card(value=1, suit='Heart'), Card(value=1, suit='Spade'), Card(value=2, suit='Diamond'), Card(value=2, suit='Club'), Card(value=2, suit='Heart'), Card(value=2, suit='Spade'), Card(value=3, suit='Diamond'), Card(value=3, suit='Club'), Card(value=3, suit='Heart'), Card(value=3, suit='Spade'), Card(value=4, suit='Diamond'), Card(value=4, suit='Club'), Card(value=4, suit='Heart'), Card(value=4, suit='Spade'), Card(value=5, suit='Diamond'), Card(value=5, suit='Club'), Card(value=5, suit='Heart'), Card(value=5, suit='Spade'), Card(value=6, suit='Diamond'), Card(value=6, suit='Club'), Card(value=6, suit='Heart'), Card(value=6, suit='Spade'), Card(value=7, suit='Diamond'), Card(value=7, suit='Club'), Card(value=7, suit='Heart'), Card(value=7, suit='Spade'), Card(value=8, suit='Diamond'), Card(value=8, suit='Club'), Card(value=8, suit='Heart'), Card(value=8, suit='Spade'), Card(value=9, suit='Diamond'), Card(value=9, suit='Club'), Card(value=9, suit='Heart'), Card(value=9, suit='Spade'), Card(value=10, suit='Diamond'), Card(value=10, suit='Club'), Card(value=10, suit='Heart'), Card(value=10, suit='Spade'), Card(value=11, suit='Diamond'), Card(value=11, suit='Club'), Card(value=11, suit='Heart'), Card(value=11, suit='Spade'), Card(value=12, suit='Diamond'), Card(value=12, suit='Club'), Card(value=12, suit='Heart'), Card(value=12, suit='Spade'), Card(value=13, suit='Diamond'), Card(value=13, suit='Club'), Card(value=13, suit='Heart'), Card(value=13, suit='Spade')]\n"
     ]
    }
   ],
   "source": [
    "# Create a deck of cards\n",
    "from collections import namedtuple\n",
    "\n",
    "suits = (\"Diamond\", \"Club\", \"Heart\", \"Spade\")\n",
    "values = range(1, 14)\n",
    "Card = namedtuple('Card', ['value', 'suit'])\n",
    "\n",
    "deck = [Card(value, suit) for value in values for suit in suits]\n",
    "print(deck)"
   ]
  },
  {
   "cell_type": "markdown",
   "metadata": {
    "slideshow": {
     "slide_type": "subslide"
    }
   },
   "source": [
    "To play the game, a dealer randomly pick a card without letting you know, and you're going to guess what exactly that card is."
   ]
  },
  {
   "cell_type": "code",
   "execution_count": 3,
   "metadata": {
    "ExecuteTime": {
     "end_time": "2021-03-20T14:23:44.399466Z",
     "start_time": "2021-03-20T14:23:44.397181Z"
    },
    "scrolled": true,
    "slideshow": {
     "slide_type": "-"
    }
   },
   "outputs": [
    {
     "name": "stdout",
     "output_type": "stream",
     "text": [
      "Card(value=6, suit='Diamond')\n"
     ]
    }
   ],
   "source": [
    "# Randomly draw a card from the deck with replacement\n",
    "import random\n",
    "print(random.choice(deck))"
   ]
  },
  {
   "cell_type": "markdown",
   "metadata": {
    "slideshow": {
     "slide_type": "subslide"
    }
   },
   "source": [
    "You are allowed to make an informed guess after the dealer answers some of your **yes/no** questions."
   ]
  },
  {
   "cell_type": "markdown",
   "metadata": {
    "slideshow": {
     "slide_type": "fragment"
    }
   },
   "source": [
    "For instance, you may ask:\n",
    "- Is the suit club?\n",
    "- Is the card diamond 1 (ace)?\n",
    "- Is the value at least 10?"
   ]
  },
  {
   "cell_type": "markdown",
   "metadata": {
    "slideshow": {
     "slide_type": "fragment"
    }
   },
   "source": [
    "However, you cannot ask:\n",
    "- What is the value?\n",
    "- What is the suite?"
   ]
  },
  {
   "cell_type": "markdown",
   "metadata": {
    "slideshow": {
     "slide_type": "subslide"
    }
   },
   "source": [
    "**Exercise** You win if you can **guess the card correctly with no more than 6 questions**. What is the winning strategy?"
   ]
  },
  {
   "cell_type": "markdown",
   "metadata": {
    "nbgrader": {
     "grade": true,
     "grade_id": "cell-31a1b5a128062b4a",
     "locked": false,
     "points": 1,
     "schema_version": 3,
     "solution": true,
     "task": false
    },
    "slideshow": {
     "slide_type": "-"
    }
   },
   "source": [
    "Ask each question so that the set of remaining possibilities is split into two sets of sizes as close as possible. Note that 5 questions are not enough because they can resolve at most $2^5=32$ possibilities. $6$ questions can resolve at most $2^6=64>52$ possibilities, however. This is possible as the computer program later shows."
   ]
  },
  {
   "cell_type": "markdown",
   "metadata": {
    "slideshow": {
     "slide_type": "fragment"
    }
   },
   "source": [
    "Hint 1: <span style=\"color:white\">Obviously, you should not ask whether the card is precisely certain card, e.g., Is it Diamond Ace? Is it Diamond 2? ... Why not? The card may be one of the remaining $52-6=46$ possibilities you did not ask.</span>"
   ]
  },
  {
   "cell_type": "markdown",
   "metadata": {
    "slideshow": {
     "slide_type": "fragment"
    }
   },
   "source": [
    "Hint 2: <span style=\"color:white\">Think of each **Yes/No** question as splitting the set of possible cards into two smaller groups of possible cards corresponding to each possible answer **Yes/No**.</span>"
   ]
  },
  {
   "cell_type": "markdown",
   "metadata": {
    "slideshow": {
     "slide_type": "fragment"
    }
   },
   "source": [
    "Hint 3: <span style=\"color:white\">How many questions is required to split the set of 52 cards into groups of size $1$, i.e., with only one possible card?</span>"
   ]
  },
  {
   "cell_type": "markdown",
   "metadata": {
    "slideshow": {
     "slide_type": "slide"
    }
   },
   "source": [
    "## Challenge the computer"
   ]
  },
  {
   "cell_type": "markdown",
   "metadata": {
    "slideshow": {
     "slide_type": "fragment"
    }
   },
   "source": [
    "Play the role of the dealer and test if the program below can guess the card correctly after 6 questions."
   ]
  },
  {
   "cell_type": "code",
   "execution_count": 4,
   "metadata": {
    "ExecuteTime": {
     "end_time": "2021-03-20T14:23:58.379216Z",
     "start_time": "2021-03-20T14:23:47.863209Z"
    },
    "scrolled": true,
    "slideshow": {
     "slide_type": "-"
    }
   },
   "outputs": [
    {
     "name": "stdout",
     "output_type": "stream",
     "text": [
      "Is the suite either heart or spade? (y/[n]) y\n",
      "Is the suite either club or spade? (y/[n]) n\n",
      "Is the number 8 or above? (y/[n]) y\n",
      "Is the number 12 or above? (y/[n]) y\n",
      "Is the number 14 or above? (y/[n]) y\n",
      "Is the number 15 or above? (y/[n]) y\n",
      "The card is Heart 15\n"
     ]
    }
   ],
   "source": [
    "suitIdx = 0\n",
    "number = 0\n",
    "\n",
    "if \"y\" == input(\n",
    "        \"Is the suite either heart or spade? (y/[n]) \").strip().lower():\n",
    "    suitIdx += 2\n",
    "\n",
    "if \"y\" == input(\"Is the suite either club or spade? (y/[n]) \").strip().lower():\n",
    "    suitIdx += 1\n",
    "\n",
    "if \"y\" == input(\n",
    "        f\"Is the number {number+8} or above? (y/[n]) \").strip().lower():\n",
    "    number += 8\n",
    "\n",
    "if \"y\" == input(\n",
    "        f\"Is the number {number+4} or above? (y/[n]) \").strip().lower():\n",
    "    number += 4\n",
    "\n",
    "if \"y\" == input(\n",
    "        f\"Is the number {number+2} or above? (y/[n]) \").strip().lower():\n",
    "    number += 2\n",
    "\n",
    "if \"y\" == input(\n",
    "        f\"Is the number {number+1} or above? (y/[n]) \").strip().lower():\n",
    "    number += 1\n",
    "\n",
    "print(f\"The card is {suits[suitIdx]} {number}\")"
   ]
  },
  {
   "cell_type": "markdown",
   "metadata": {
    "slideshow": {
     "slide_type": "fragment"
    }
   },
   "source": [
    "**Exercise** Does the above program always win? Explain your answer?"
   ]
  },
  {
   "cell_type": "markdown",
   "metadata": {
    "nbgrader": {
     "grade": true,
     "grade_id": "cell-d020c0eb31353627",
     "locked": false,
     "points": 1,
     "schema_version": 3,
     "solution": true,
     "task": false
    },
    "slideshow": {
     "slide_type": "-"
    }
   },
   "source": [
    "Yes. This is because each possible card has a unique **Yes/No** answer sequence."
   ]
  },
  {
   "cell_type": "markdown",
   "metadata": {
    "slideshow": {
     "slide_type": "slide"
    }
   },
   "source": [
    "## Challenge your understanding"
   ]
  },
  {
   "cell_type": "markdown",
   "metadata": {
    "slideshow": {
     "slide_type": "fragment"
    }
   },
   "source": [
    "The following table gives the binary representions of unsigned decimal integers from 0 to 7."
   ]
  },
  {
   "cell_type": "markdown",
   "metadata": {
    "slideshow": {
     "slide_type": "-"
    }
   },
   "source": [
    "<table>\n",
    "    <tr><th>Binary</th><th>Decimal</th></tr>\n",
    "    <tr><td>000</td><td>0</td></tr>\n",
    "    <tr><td>001</td><td>1</td></tr>\n",
    "    <tr><td>010</td><td>2</td></tr>\n",
    "    <tr><td>011</td><td>3</td></tr>\n",
    "    <tr><td><b style=\"color:magenta\">1</b>00</td><td style=\"color:magenta\">4</td></tr>\n",
    "    <tr><td><b style=\"color:magenta\">1</b>01</td><td style=\"color:magenta\">5</td></tr>\n",
    "    <tr><td><b style=\"color:magenta\">1</b>10</td><td style=\"color:magenta\">6</td></tr>\n",
    "    <tr><td><b style=\"color:magenta\">1</b>11</td><td style=\"color:magenta\">7</td></tr>\n",
    "</table><br>"
   ]
  },
  {
   "cell_type": "markdown",
   "metadata": {
    "slideshow": {
     "slide_type": "fragment"
    }
   },
   "source": [
    "To convert binary to decimal, think of the conversion as a guessing game where\n",
    "- the binary sequence is a sequence of **yes (1)** or **no (0)** answers to certain **yes/no** questions, and\n",
    "- the informed guess is the integer represented by the binary sequence."
   ]
  },
  {
   "cell_type": "markdown",
   "metadata": {
    "slideshow": {
     "slide_type": "fragment"
    }
   },
   "source": [
    "For instance, observe that the binary representation of 4, 5, 6, and 7 actually have <b style=\"color:magenta\">1</b> in the leftmost (most significant) bit. Therefore we can consider that bit as the answer to the following **yes/no** question:\n",
    "\n",
    "> Is the integer 4 or above?"
   ]
  },
  {
   "cell_type": "markdown",
   "metadata": {
    "slideshow": {
     "slide_type": "subslide"
    }
   },
   "source": [
    "**Exercise** What are the **yes/no** questions corresponding to the 2nd bit and 3rd bit?"
   ]
  },
  {
   "cell_type": "markdown",
   "metadata": {
    "nbgrader": {
     "grade": true,
     "grade_id": "cell-feebf3b664ed4c0a",
     "locked": false,
     "points": 1,
     "schema_version": 3,
     "solution": true,
     "task": false
    },
    "slideshow": {
     "slide_type": "-"
    }
   },
   "source": [
    "Let's take the remaining of the decimal numbers divided by $4$ and ignore the first bit:</i>\n",
    "<table>\n",
    "    <tr><th>Binary</th><th>Original Decimal</th><th>Decimal-0</th></tr>\n",
    "    <tr><td>00</td><td>0</td><td>0</td></tr>\n",
    "    <tr><td>01</td><td>1</td><td>1</td></tr>\n",
    "    <tr><td><b style=\"color:#F80\">1</b>0</td><td>2</td><td style=\"color:#F80\">2</td></tr>\n",
    "    <tr><td><b style=\"color:#F80\">1</b>1</td><td>3</td><td style=\"color:#F80\">3</td></tr>\n",
    "    <tr><th>Binary</th><th>Original Decimal</th><th>Decimal-4</th></tr>\n",
    "    <tr><td>00</td><td>4</td><td>0</td></tr>\n",
    "    <tr><td>01</td><td>5</td><td>1</td></tr>\n",
    "    <tr><td><b style=\"color:#F80\">1</b>0</td><td>6</td><td style=\"color:#F80\">2</td></tr>\n",
    "    <tr><td><b style=\"color:#F80\">1</b>1</td><td>7</td><td style=\"color:#F80\">3</td></tr>\n",
    "</table><br>\n",
    "Observe that the <b style=\"color:#F80\">2nd bit</b> in fact is the answer of\n",
    "\n",
    "> Is the remainder 2 or above after division by 4?\n",
    "\n",
    "Observe that the rightmost (least significant) bit is 1 if and only if the number is odd. So the corresponding question is\n",
    "\n",
    "> Is the number odd?"
   ]
  },
  {
   "cell_type": "markdown",
   "metadata": {
    "slideshow": {
     "slide_type": "slide"
    }
   },
   "source": [
    "<h2>References</h2>\n",
    "<ul>\n",
    "    <li><a href=https://www.mathsisfun.com/binary-number-system.html>Binary Number Sytem</a></li>\n",
    "    <li><a href=https://www.purplemath.com/modules/numbbase.htm>Binary Number Conversions</a></li>\n",
    "</ul>"
   ]
  }
 ],
 "metadata": {
  "kernelspec": {
   "display_name": "Python 3.7 (XPython)",
   "language": "python",
   "name": "xpython"
  },
  "language_info": {
   "file_extension": ".py",
   "mimetype": "text/x-python",
   "name": "python",
   "version": "3.7.10"
  },
  "latex_envs": {
   "LaTeX_envs_menu_present": true,
   "autoclose": false,
   "autocomplete": true,
   "bibliofile": "biblio.bib",
   "cite_by": "apalike",
   "current_citInitial": 1,
   "eqLabelWithNumbers": true,
   "eqNumInitial": 1,
   "hotkeys": {
    "equation": "Ctrl-E",
    "itemize": "Ctrl-I"
   },
   "labels_anchors": false,
   "latex_user_defs": false,
   "report_style_numbering": false,
   "user_envs_cfg": false
  },
  "toc": {
   "base_numbering": 1,
   "nav_menu": {},
   "number_sections": true,
   "sideBar": true,
   "skip_h1_title": true,
   "title_cell": "Table of Contents",
   "title_sidebar": "Contents",
   "toc_cell": false,
   "toc_position": {},
   "toc_section_display": true,
   "toc_window_display": false
  }
 },
 "nbformat": 4,
 "nbformat_minor": 4
}
